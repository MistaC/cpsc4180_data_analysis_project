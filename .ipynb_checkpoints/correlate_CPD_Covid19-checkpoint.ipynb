{
 "cells": [
  {
   "cell_type": "markdown",
   "metadata": {},
   "source": [
    "# 1 Imports"
   ]
  },
  {
   "cell_type": "code",
   "execution_count": null,
   "metadata": {},
   "outputs": [],
   "source": [
    "import pandas as pd\n",
    "import sys\n",
    "# from hurry.filesize import size\n",
    "import matplotlib.pyplot as plt\n",
    "import numpy as np\n",
    "import time\n",
    "from tqdm import tqdm\n",
    "import seaborn as sea\n",
    "from datetime import datetime\n",
    "from datetime import date\n",
    "import datetime\n",
    "from scipy.interpolate import interp1d\n",
    "# from matplotlib.dates import AutoDateFormatter, AutoDateLocator"
   ]
  },
  {
   "cell_type": "markdown",
   "metadata": {},
   "source": [
    "# 2 Load datasets from local files "
   ]
  },
  {
   "cell_type": "code",
   "execution_count": null,
   "metadata": {},
   "outputs": [],
   "source": [
    "cpd_df = pd.read_csv(\"Public_CPD_Arrests.csv\")\n",
    "r_cpd_df = cpd_df[18580:23980] #crime during track of covid data\n",
    "# r_cpd_df = cpd_df #alternatively, use everything from the first record to the last\n",
    "del(cpd_df) #conserve memory\n",
    "cov_df = pd.read_csv(\"time_series_covid19_confirmed_US.csv\")\n",
    "r_cov_df = cov_df.loc[(cov_df['Province_State'] == 'Tennessee') & (cov_df['Admin2'] == 'Hamilton')] #covid data for Hamilton county, TN\n",
    "del(cov_df) #conserve memory"
   ]
  },
  {
   "cell_type": "markdown",
   "metadata": {},
   "source": [
    "# 3 Exploring CPD data "
   ]
  },
  {
   "cell_type": "markdown",
   "metadata": {},
   "source": [
    "Exploring the CPD arrests data is done, by default, with only the indexes that align with the Covid-19 data by start and end date. This is done so that any visualizations or statistics can be more accurately compared between the two, as they are measured over the same period."
   ]
  },
  {
   "cell_type": "markdown",
   "metadata": {},
   "source": [
    "## 3.1 Arrange dataframe with date timestamps as indexes and crimes as columns"
   ]
  },
  {
   "cell_type": "markdown",
   "metadata": {},
   "source": [
    "This block creates the t_cpd_df dataframe, which conveniently prepares the data for plotting over a range of dates. However, plotting the dataframe outright is going to look pretty awful, so don't try it."
   ]
  },
  {
   "cell_type": "code",
   "execution_count": null,
   "metadata": {},
   "outputs": [],
   "source": [
    "crime_dict_by_date = {} #perform tracking per date\n",
    "# start = time.time() #performance measurement\n",
    "# cnt = 0 #performance measurement\n",
    "\n",
    "#23992 total for full dataset, 5400 total for covid-19 track only\n",
    "for i,s in tqdm(r_cpd_df.iterrows(),total=5400,desc='CPD Arrest Data Rows',unit='rows'):\n",
    "    date = s['Arrest Date'][:9].strip()\n",
    "    charges = list(set(list(map(str.strip,s['Charges'].split(',')))))\n",
    "    for c in charges:\n",
    "        if date not in crime_dict_by_date: #date not present, add it and the first crime\n",
    "            crime_dict_by_date[date] = {c:1}\n",
    "            crime_dict_by_date[date]['TOTAL_DAILY_CRIMES'] = 1\n",
    "        else: #date present\n",
    "            if c not in crime_dict_by_date[date]: #crime sub-key not present, add crime sub-key\n",
    "                crime_dict_by_date[date][c] = 1\n",
    "                crime_dict_by_date[date]['TOTAL_DAILY_CRIMES'] += 1\n",
    "            else: #crime sub-key present, increment crime sub-key\n",
    "                crime_dict_by_date[date][c] += 1\n",
    "                crime_dict_by_date[date]['TOTAL_DAILY_CRIMES'] += 1\n",
    "#     cnt += 1\n",
    "\n",
    "cpd_df = pd.DataFrame.from_dict(crime_dict_by_date)\n",
    "cpd_df.fillna(0,inplace=True)\n",
    "cpd_df.sort_values(by=['1/22/2020'],inplace=True,ascending=False)\n",
    "cpd_df.drop(cpd_df.tail(1).index,inplace=True)\n",
    "t_cpd_df = cpd_df.transpose()\n",
    "\n",
    "t_cpd_df.reset_index(inplace=True)\n",
    "t_cpd_df['index'] = pd.to_datetime(t_cpd_df['index']) #, errors='coerce' the errors parameter only applies when using full dataset\n",
    "t_cpd_df.rename(columns={'index':'Date'},inplace=True)\n",
    "t_cpd_df.set_index('Date',inplace=True)\n",
    "# t_cpd_df.index = t_cpd_df.index.map(datetime.date.toordinal) #Converts from timestamp to date object. Makes analysis a bit easier.\n",
    "# t_cpd_df.index = t_cpd_df.index.map(datetime.date.fromordinal)\n",
    "t_cpd_df"
   ]
  },
  {
   "cell_type": "code",
   "execution_count": null,
   "metadata": {},
   "outputs": [],
   "source": [
    "t_cpd_df.index[0]"
   ]
  },
  {
   "cell_type": "markdown",
   "metadata": {},
   "source": [
    "## 3.2 Explore CPD data with statistics"
   ]
  },
  {
   "cell_type": "markdown",
   "metadata": {},
   "source": [
    "### 3.2.1 Explore by crime"
   ]
  },
  {
   "cell_type": "markdown",
   "metadata": {},
   "source": [
    "The data is normally formatted for plotting, so getting descriptive statistics from it requires the replacement of all zeroes with NaNs. This is done on a copy, so the later plotting code blocks are unaffected by this."
   ]
  },
  {
   "cell_type": "code",
   "execution_count": null,
   "metadata": {},
   "outputs": [],
   "source": [
    "cpy = t_cpd_df.copy(deep=True)\n",
    "cpy.replace(0,np.nan,inplace=True)\n",
    "cpy.describe()"
   ]
  },
  {
   "cell_type": "markdown",
   "metadata": {},
   "source": [
    "It is also possible to explore the data by specific crimes."
   ]
  },
  {
   "cell_type": "code",
   "execution_count": null,
   "metadata": {},
   "outputs": [],
   "source": [
    "cpy['TOTAL_DAILY_CRIMES'].describe()"
   ]
  },
  {
   "cell_type": "markdown",
   "metadata": {},
   "source": [
    "In the code block below, you can pick which crime you'd like to learn more about. The code will show you all results that contain the term you enter, so entering \"burg\" will return all results related to burglary, while \"a\" will likely return most if not all the crimes, given that their names include the letter \"a.\" Keep in mind that these are not the measurements of that crime on specific days, but rather across all days from Jan 22, 2020 to Sep 15, 2020."
   ]
  },
  {
   "cell_type": "code",
   "execution_count": null,
   "metadata": {},
   "outputs": [],
   "source": [
    "crimes = t_cpd_df.columns\n",
    "hlp = '/c\\tList out available crimes to search.\\n-------------------------------------------\\n'\n",
    "print(hlp)\n",
    "\n",
    "term = input('Search for: ')\n",
    "\n",
    "if term == '/c':\n",
    "    for index,crime in enumerate(crimes):\n",
    "        print('{}\\t{}'.format(index+1,crime))\n",
    "    exit\n",
    "else:\n",
    "    matches = []\n",
    "    for crime in crimes:\n",
    "        if term.lower() in crime.lower(): matches.append(crime)\n",
    "        else: continue\n",
    "    if not matches:\n",
    "        print('There were no results. Try again.')\n",
    "        exit\n",
    "    else:\n",
    "        for match in matches:\n",
    "#             print(cpy[match].describe())\n",
    "            display(cpy[match].describe())\n",
    "#             print('\\n\\n')"
   ]
  },
  {
   "cell_type": "markdown",
   "metadata": {},
   "source": [
    "### 3.2.2 Explore by time period"
   ]
  },
  {
   "cell_type": "markdown",
   "metadata": {},
   "source": [
    "The original t_cpd_df dataframe is used here.\n",
    "\n",
    "You can search for a specific range of values across the given time frame."
   ]
  },
  {
   "cell_type": "code",
   "execution_count": null,
   "metadata": {},
   "outputs": [],
   "source": [
    "print('Enter your chosen year, month, and day to search. Use YYYY-MM-DD format. Preface single digits with 0.\\n\\nThe available timeframe is from {} to {}'.format(str(t_cpd_df.index[0]),str(t_cpd_df.index[-1])))\n",
    "start = input('Starting date: ')\n",
    "end = input('Ending date: ')\n",
    "\n",
    "# start_list = start.split('-')\n",
    "# end_list = end.split('-')\n",
    "\n",
    "# start = datetime.date(int(start_list[2]),int(start_list[0]),int(start_list[1]))\n",
    "# end = datetime.date(int(end_list[2]),int(end_list[0]),int(end_list[1]))\n",
    "\n",
    "print('Choose to show dataframe view or statistical view. Enter DF for dataframe and ST for statistics.')\n",
    "op = input('Choice: ')\n",
    "if op == 'DF': display(t_cpd_df[start:end])\n",
    "elif op == 'ST': display(t_cpd_df[start:end].describe())\n",
    "else:\n",
    "    print('Unrecognized choice. Defaulting to dataframe.')\n",
    "    display(t_cpd_df[start:end])"
   ]
  },
  {
   "cell_type": "markdown",
   "metadata": {},
   "source": [
    "## 3.3 Explore data through visualization"
   ]
  },
  {
   "cell_type": "markdown",
   "metadata": {},
   "source": [
    "# REWRITE TO REGPLOT FREQUENCY OF ARRESTS TO COVID CASES"
   ]
  },
  {
   "cell_type": "markdown",
   "metadata": {},
   "source": [
    "### 3.3.1 Trendlines"
   ]
  },
  {
   "cell_type": "markdown",
   "metadata": {},
   "source": [
    "The two code blocks below will show trendlines for each crime, as well as the scatterplot upon which that trendline is drawn. Two versions are provided, one that is faster at the expense of using more RAM, and vice versa."
   ]
  },
  {
   "cell_type": "markdown",
   "metadata": {},
   "source": [
    "#### 3.3.1a Make plots for crimes (Faster, RAM intensive)"
   ]
  },
  {
   "cell_type": "code",
   "execution_count": null,
   "metadata": {},
   "outputs": [],
   "source": [
    "#CHANGE COLOR OF TRENDLINE AND DOTS\n",
    "plt.rcParams.update({'figure.max_open_warning': 0})\n",
    "cpy = t_cpd_df.copy(deep=True)\n",
    "t = len(cpy.columns)\n",
    "x = 'Date'\n",
    "y = 'Frequency of Arrests'\n",
    "cpy.index = cpy.index.map(datetime.date.toordinal)\n",
    "\n",
    "for col in tqdm(cpy,total=t,desc='CPD Scatterplots with Trendlines',unit='figures'):\n",
    "    plt.figure()\n",
    "    s = sea.regplot(cpy.index,cpy[col],data=cpy,color='Red',scatter_kws={\"color\": \"blue\"})\n",
    "    ax = plt.gca()\n",
    "    xticks = ax.get_xticks()\n",
    "    xticks_dates = [datetime.date.fromordinal(int(x)) for x in xticks]\n",
    "    ax.set_xticklabels(xticks_dates)\n",
    "    plt.xlabel(x)\n",
    "    plt.ylabel(y)\n",
    "    plt.title(col)\n",
    "\n",
    "# cpy.index = cpy.index.map(datetime.date.fromordinal)\n",
    "plt.show()\n",
    "plt.close('all') #close all figures to prevent memory leak"
   ]
  },
  {
   "cell_type": "code",
   "execution_count": null,
   "metadata": {},
   "outputs": [],
   "source": [
    "print(t_cpd_df.index[0])\n",
    "print(type(t_cpd_df.index[0]))"
   ]
  },
  {
   "cell_type": "code",
   "execution_count": null,
   "metadata": {},
   "outputs": [],
   "source": [
    "t_cpd_df"
   ]
  },
  {
   "cell_type": "markdown",
   "metadata": {},
   "source": [
    "#### 3.3.1b Make plots for crimes (Slower, easier on RAM)"
   ]
  },
  {
   "cell_type": "code",
   "execution_count": null,
   "metadata": {},
   "outputs": [],
   "source": [
    "cpy = t_cpd_df.copy(deep=True)\n",
    "cpy.index = cpy.index.map(datetime.date.toordinal)\n",
    "plt.figure()\n",
    "x = 'Dates'\n",
    "y = 'Frequency of Arrests'\n",
    "\n",
    "for col in cpy:\n",
    "    sea.regplot(cpy.index,cpy[col],data=cpy,color='Red',scatter_kws={\"color\": \"blue\"})\n",
    "    ax = plt.gca()\n",
    "    xticks = ax.get_xticks()\n",
    "    xticks_dates = [datetime.date.fromordinal(int(x)) for x in xticks]\n",
    "    ax.set_xticklabels(xticks_dates)\n",
    "    plt.xlabel(x)\n",
    "    plt.ylabel(y)\n",
    "    plt.title(col)\n",
    "    plt.show()\n",
    "\n",
    "# t_cpd_df.index = t_cpd_df.index.map(datetime.date.fromordinal)"
   ]
  },
  {
   "cell_type": "code",
   "execution_count": null,
   "metadata": {},
   "outputs": [],
   "source": [
    "t_cpd_df"
   ]
  },
  {
   "cell_type": "markdown",
   "metadata": {},
   "source": [
    "### 3.3.2 Line plot of CPD data"
   ]
  },
  {
   "cell_type": "markdown",
   "metadata": {},
   "source": [
    "The trendlines previously shown were good for seeing the general tendencies of the crimes over the whole given timespan, but seeing the change between the individual scatterplot points was a bit difficult. A line plot helps to show the change between points a bit better. Unfortunately, even with interpolation, the CPD arrests data is not smooth by its very nature, as arrests typically fluctuate between days to a great degree. Thus, the line plots of the CPD data are jagged and somewhat difficult to read, but the shape of the plots show trends from time to time, such as the fall, spike, fall, and smaller spike pattern of the TOTAL_DAILY_CRIMES plot."
   ]
  },
  {
   "cell_type": "code",
   "execution_count": null,
   "metadata": {},
   "outputs": [],
   "source": [
    "#LOOK INTO ADDITIONAL SMOOTHING FUNCTIONS\n",
    "# cov_df = r_cov_df.loc[:,'1/22/2020':]\n",
    "# t_cov_df = cov_df.transpose()\n",
    "# t_cov_df.rename(columns={t_cov_df.columns[0]:'Cases'}, inplace=True)\n",
    "cpy = t_cpd_df.copy(deep=True)\n",
    "plt.figure()\n",
    "x = 'Dates'\n",
    "y = 'Frequency of Arrests'\n",
    "for col in cpy:\n",
    "    cpy[col].plot(rot=90)\n",
    "#     ax = plt.gca()\n",
    "#     xticks = ax.get_xticks()\n",
    "#     xticks_dates = [datetime.date.fromordinal(int(x)) for x in xticks]\n",
    "#     ax.set_xticklabels(xticks_dates)\n",
    "    plt.xlabel(x)\n",
    "    plt.ylabel(y)\n",
    "    plt.title(col)\n",
    "    plt.show()"
   ]
  },
  {
   "cell_type": "markdown",
   "metadata": {},
   "source": [
    "# Prepare and plot Covid-19 data"
   ]
  },
  {
   "cell_type": "code",
   "execution_count": null,
   "metadata": {},
   "outputs": [],
   "source": [
    "cov_df = r_cov_df.loc[:,'1/22/2020':]\n",
    "t_cov_df = cov_df.transpose()\n",
    "t_cov_df.rename(columns={t_cov_df.columns[0]:'Cases'}, inplace=True)\n",
    "t_cov_df = t_cov_df.diff(axis=0)\n",
    "\n",
    "t_cov_df.reset_index(inplace=True)\n",
    "t_cov_df['index'] = pd.to_datetime(t_cov_df['index'])\n",
    "t_cov_df.rename(columns={'index':'Date'},inplace=True)\n",
    "t_cov_df.set_index('Date',inplace=True)\n",
    "# t_cov_df.index = t_cov_df.index.map(datetime.date.toordinal)\n",
    "# t_cov_df.index = t_cov_df.index.map(datetime.date.fromordinal)\n",
    "# t_cov_df.replace(np.nan,0,inplace=True)\n",
    "# t_cov_df.interpolate(method='spline',order=5,inplace=True)\n",
    "\n",
    "plt.figure()\n",
    "t_cov_df.plot(rot=90)\n",
    "plt.xlabel('Month')\n",
    "plt.ylabel('Cases per day')\n",
    "plt.title('Hamilton County Daily Covid Cases')\n",
    "plt.show()"
   ]
  },
  {
   "cell_type": "markdown",
   "metadata": {},
   "source": [
    "# Overlay frequency in CPD and daily cases in Covid"
   ]
  },
  {
   "cell_type": "code",
   "execution_count": null,
   "metadata": {},
   "outputs": [],
   "source": [
    "t_cpd_df"
   ]
  },
  {
   "cell_type": "code",
   "execution_count": null,
   "metadata": {},
   "outputs": [],
   "source": [
    "t_cov_df"
   ]
  },
  {
   "cell_type": "code",
   "execution_count": null,
   "metadata": {},
   "outputs": [],
   "source": [
    "x = 'Dates'\n",
    "# y = 'Frequency of Arrests'\n",
    "plt.rcParams.update({'figure.max_open_warning': 0})\n",
    "t = len(t_cpd_df.columns)\n",
    "for crime in tqdm(t_cpd_df,total=t,desc='CPD/Covid Overlay Plots',unit='figures'):\n",
    "    plt.figure()\n",
    "    ax_cov = t_cov_df.plot(rot=90,secondary_y=True,style=['r']) #linestyle='--'\n",
    "#     plt.ylabel(y)\n",
    "    t_cpd_df[crime].plot(ax=ax_cov,rot=90,style=['b'],linestyle='--')\n",
    "    plt.xlabel(x)\n",
    "    plt.title(crime+' and Daily Covid Cases')\n",
    "#     ax_cpd = t_cpd_df[crime].plot(rot=90,style=['b'])\n",
    "#     t_cov_df.plot(ax=ax_cpd, style=['g'], linestyle='--')\n",
    "#     plt.show()\n",
    "plt.show()\n",
    "plt.close('all') #close all figures to prevent memory leak"
   ]
  },
  {
   "cell_type": "markdown",
   "metadata": {},
   "source": [
    "# Linear regression: Arrests vs. Daily Covid Cases"
   ]
  },
  {
   "cell_type": "markdown",
   "metadata": {},
   "source": [
    "TODO"
   ]
  }
 ],
 "metadata": {
  "kernelspec": {
   "display_name": "Python 3",
   "language": "python",
   "name": "python3"
  },
  "language_info": {
   "codemirror_mode": {
    "name": "ipython",
    "version": 3
   },
   "file_extension": ".py",
   "mimetype": "text/x-python",
   "name": "python",
   "nbconvert_exporter": "python",
   "pygments_lexer": "ipython3",
   "version": "3.8.3"
  }
 },
 "nbformat": 4,
 "nbformat_minor": 4
}
